{
 "cells": [
  {
   "cell_type": "markdown",
   "metadata": {},
   "source": [
    "# Generate Shakespeare text\n",
    "This notebook allows you to generate text using the Mamba architecture and the tiny shakespeare dataset."
   ]
  },
  {
   "cell_type": "code",
   "execution_count": 1,
   "metadata": {},
   "outputs": [
    {
     "name": "stderr",
     "output_type": "stream",
     "text": [
      "\u001b[32m\u001b[1m  Activating\u001b[22m\u001b[39m project at `~/alberto/StateSpacesMamba.jl`\n"
     ]
    }
   ],
   "source": [
    "using Pkg\n",
    "Pkg.activate(\".\")\n",
    "Pkg.instantiate()\n"
   ]
  },
  {
   "cell_type": "code",
   "execution_count": null,
   "metadata": {},
   "outputs": [
    {
     "name": "stderr",
     "output_type": "stream",
     "text": [
      "WARNING: using ChainRulesCore.rrule in module Main conflicts with an existing identifier.\n"
     ]
    }
   ],
   "source": [
    "using Flux, CUDA, IJulia, BSON\n",
    "include(\"src/utils/shakespeare.jl\")\n",
    "include(\"src/models/mamba.jl\")"
   ]
  },
  {
   "cell_type": "code",
   "execution_count": null,
   "metadata": {},
   "outputs": [],
   "source": [
    "BSON.@load \"saved_weights/shakespeare/mamba/model_1.bson\" model\n",
    "model = model |> f32 |> gpu_device()\n",
    "\n",
    "vocab, _, _, _, _ = get_tiny_shakespeare()\n",
    "seed = \"shall i compare thee to a summer's day?\"\n",
    "\n",
    "println(generate_text(model, vocab))"
   ]
  }
 ],
 "metadata": {
  "kernelspec": {
   "display_name": "Julia 1.11.3",
   "language": "julia",
   "name": "julia-1.11"
  },
  "language_info": {
   "file_extension": ".jl",
   "mimetype": "application/julia",
   "name": "julia",
   "version": "1.11.3"
  }
 },
 "nbformat": 4,
 "nbformat_minor": 2
}
